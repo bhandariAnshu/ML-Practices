{
 "cells": [
  {
   "cell_type": "code",
   "execution_count": 1,
   "id": "0069ddc9-77a8-4f97-96ab-9d71fd5fb9bb",
   "metadata": {},
   "outputs": [],
   "source": [
    "import scipy.stats as stats #It has all the probability distributions available along with many statistical functions.\n",
    "import pandas as pd\n",
    "import numpy as np\n",
    "import matplotlib.pyplot as plt\n",
    "%matplotlib inline\n",
    "import seaborn as sns\n",
    "import warnings\n",
    "warnings.filterwarnings('ignore')"
   ]
  },
  {
   "cell_type": "code",
   "execution_count": 2,
   "id": "d21e9db2-4869-4c84-82c3-72c5211e2a31",
   "metadata": {},
   "outputs": [
    {
     "data": {
      "text/html": [
       "<div>\n",
       "<style scoped>\n",
       "    .dataframe tbody tr th:only-of-type {\n",
       "        vertical-align: middle;\n",
       "    }\n",
       "\n",
       "    .dataframe tbody tr th {\n",
       "        vertical-align: top;\n",
       "    }\n",
       "\n",
       "    .dataframe thead th {\n",
       "        text-align: right;\n",
       "    }\n",
       "</style>\n",
       "<table border=\"1\" class=\"dataframe\">\n",
       "  <thead>\n",
       "    <tr style=\"text-align: right;\">\n",
       "      <th></th>\n",
       "      <th>Id</th>\n",
       "      <th>Age</th>\n",
       "      <th>Gender</th>\n",
       "      <th>Hormonal Changes</th>\n",
       "      <th>Family History</th>\n",
       "      <th>Race/Ethnicity</th>\n",
       "      <th>Body Weight</th>\n",
       "      <th>Calcium Intake</th>\n",
       "      <th>Vitamin D Intake</th>\n",
       "      <th>Physical Activity</th>\n",
       "      <th>Smoking</th>\n",
       "      <th>Alcohol Consumption</th>\n",
       "      <th>Medical Conditions</th>\n",
       "      <th>Medications</th>\n",
       "      <th>Prior Fractures</th>\n",
       "      <th>Osteoporosis</th>\n",
       "    </tr>\n",
       "  </thead>\n",
       "  <tbody>\n",
       "    <tr>\n",
       "      <th>0</th>\n",
       "      <td>104866</td>\n",
       "      <td>69</td>\n",
       "      <td>Female</td>\n",
       "      <td>Normal</td>\n",
       "      <td>Yes</td>\n",
       "      <td>Asian</td>\n",
       "      <td>Underweight</td>\n",
       "      <td>Low</td>\n",
       "      <td>Sufficient</td>\n",
       "      <td>Sedentary</td>\n",
       "      <td>Yes</td>\n",
       "      <td>Moderate</td>\n",
       "      <td>Rheumatoid Arthritis</td>\n",
       "      <td>Corticosteroids</td>\n",
       "      <td>Yes</td>\n",
       "      <td>1</td>\n",
       "    </tr>\n",
       "    <tr>\n",
       "      <th>1</th>\n",
       "      <td>101999</td>\n",
       "      <td>32</td>\n",
       "      <td>Female</td>\n",
       "      <td>Normal</td>\n",
       "      <td>Yes</td>\n",
       "      <td>Asian</td>\n",
       "      <td>Underweight</td>\n",
       "      <td>Low</td>\n",
       "      <td>Sufficient</td>\n",
       "      <td>Sedentary</td>\n",
       "      <td>No</td>\n",
       "      <td>NaN</td>\n",
       "      <td>NaN</td>\n",
       "      <td>NaN</td>\n",
       "      <td>Yes</td>\n",
       "      <td>1</td>\n",
       "    </tr>\n",
       "    <tr>\n",
       "      <th>2</th>\n",
       "      <td>106567</td>\n",
       "      <td>89</td>\n",
       "      <td>Female</td>\n",
       "      <td>Postmenopausal</td>\n",
       "      <td>No</td>\n",
       "      <td>Caucasian</td>\n",
       "      <td>Normal</td>\n",
       "      <td>Adequate</td>\n",
       "      <td>Sufficient</td>\n",
       "      <td>Active</td>\n",
       "      <td>No</td>\n",
       "      <td>Moderate</td>\n",
       "      <td>Hyperthyroidism</td>\n",
       "      <td>Corticosteroids</td>\n",
       "      <td>No</td>\n",
       "      <td>1</td>\n",
       "    </tr>\n",
       "    <tr>\n",
       "      <th>3</th>\n",
       "      <td>102316</td>\n",
       "      <td>78</td>\n",
       "      <td>Female</td>\n",
       "      <td>Normal</td>\n",
       "      <td>No</td>\n",
       "      <td>Caucasian</td>\n",
       "      <td>Underweight</td>\n",
       "      <td>Adequate</td>\n",
       "      <td>Insufficient</td>\n",
       "      <td>Sedentary</td>\n",
       "      <td>Yes</td>\n",
       "      <td>NaN</td>\n",
       "      <td>Rheumatoid Arthritis</td>\n",
       "      <td>Corticosteroids</td>\n",
       "      <td>No</td>\n",
       "      <td>1</td>\n",
       "    </tr>\n",
       "    <tr>\n",
       "      <th>4</th>\n",
       "      <td>101944</td>\n",
       "      <td>38</td>\n",
       "      <td>Male</td>\n",
       "      <td>Postmenopausal</td>\n",
       "      <td>Yes</td>\n",
       "      <td>African American</td>\n",
       "      <td>Normal</td>\n",
       "      <td>Low</td>\n",
       "      <td>Sufficient</td>\n",
       "      <td>Active</td>\n",
       "      <td>Yes</td>\n",
       "      <td>NaN</td>\n",
       "      <td>Rheumatoid Arthritis</td>\n",
       "      <td>NaN</td>\n",
       "      <td>Yes</td>\n",
       "      <td>1</td>\n",
       "    </tr>\n",
       "    <tr>\n",
       "      <th>...</th>\n",
       "      <td>...</td>\n",
       "      <td>...</td>\n",
       "      <td>...</td>\n",
       "      <td>...</td>\n",
       "      <td>...</td>\n",
       "      <td>...</td>\n",
       "      <td>...</td>\n",
       "      <td>...</td>\n",
       "      <td>...</td>\n",
       "      <td>...</td>\n",
       "      <td>...</td>\n",
       "      <td>...</td>\n",
       "      <td>...</td>\n",
       "      <td>...</td>\n",
       "      <td>...</td>\n",
       "      <td>...</td>\n",
       "    </tr>\n",
       "    <tr>\n",
       "      <th>1953</th>\n",
       "      <td>106130</td>\n",
       "      <td>19</td>\n",
       "      <td>Female</td>\n",
       "      <td>Normal</td>\n",
       "      <td>Yes</td>\n",
       "      <td>African American</td>\n",
       "      <td>Normal</td>\n",
       "      <td>Adequate</td>\n",
       "      <td>Sufficient</td>\n",
       "      <td>Sedentary</td>\n",
       "      <td>Yes</td>\n",
       "      <td>Moderate</td>\n",
       "      <td>Rheumatoid Arthritis</td>\n",
       "      <td>NaN</td>\n",
       "      <td>Yes</td>\n",
       "      <td>0</td>\n",
       "    </tr>\n",
       "    <tr>\n",
       "      <th>1954</th>\n",
       "      <td>106463</td>\n",
       "      <td>23</td>\n",
       "      <td>Female</td>\n",
       "      <td>Postmenopausal</td>\n",
       "      <td>Yes</td>\n",
       "      <td>Caucasian</td>\n",
       "      <td>Underweight</td>\n",
       "      <td>Low</td>\n",
       "      <td>Insufficient</td>\n",
       "      <td>Active</td>\n",
       "      <td>No</td>\n",
       "      <td>NaN</td>\n",
       "      <td>NaN</td>\n",
       "      <td>Corticosteroids</td>\n",
       "      <td>No</td>\n",
       "      <td>0</td>\n",
       "    </tr>\n",
       "    <tr>\n",
       "      <th>1955</th>\n",
       "      <td>103142</td>\n",
       "      <td>34</td>\n",
       "      <td>Female</td>\n",
       "      <td>Postmenopausal</td>\n",
       "      <td>No</td>\n",
       "      <td>African American</td>\n",
       "      <td>Underweight</td>\n",
       "      <td>Low</td>\n",
       "      <td>Sufficient</td>\n",
       "      <td>Sedentary</td>\n",
       "      <td>No</td>\n",
       "      <td>NaN</td>\n",
       "      <td>Hyperthyroidism</td>\n",
       "      <td>NaN</td>\n",
       "      <td>No</td>\n",
       "      <td>0</td>\n",
       "    </tr>\n",
       "    <tr>\n",
       "      <th>1956</th>\n",
       "      <td>105187</td>\n",
       "      <td>25</td>\n",
       "      <td>Male</td>\n",
       "      <td>Postmenopausal</td>\n",
       "      <td>No</td>\n",
       "      <td>African American</td>\n",
       "      <td>Normal</td>\n",
       "      <td>Low</td>\n",
       "      <td>Insufficient</td>\n",
       "      <td>Sedentary</td>\n",
       "      <td>Yes</td>\n",
       "      <td>NaN</td>\n",
       "      <td>Rheumatoid Arthritis</td>\n",
       "      <td>Corticosteroids</td>\n",
       "      <td>Yes</td>\n",
       "      <td>0</td>\n",
       "    </tr>\n",
       "    <tr>\n",
       "      <th>1957</th>\n",
       "      <td>108561</td>\n",
       "      <td>26</td>\n",
       "      <td>Female</td>\n",
       "      <td>Postmenopausal</td>\n",
       "      <td>No</td>\n",
       "      <td>African American</td>\n",
       "      <td>Underweight</td>\n",
       "      <td>Adequate</td>\n",
       "      <td>Sufficient</td>\n",
       "      <td>Sedentary</td>\n",
       "      <td>Yes</td>\n",
       "      <td>NaN</td>\n",
       "      <td>Rheumatoid Arthritis</td>\n",
       "      <td>Corticosteroids</td>\n",
       "      <td>No</td>\n",
       "      <td>0</td>\n",
       "    </tr>\n",
       "  </tbody>\n",
       "</table>\n",
       "<p>1958 rows × 16 columns</p>\n",
       "</div>"
      ],
      "text/plain": [
       "          Id  Age  Gender Hormonal Changes Family History    Race/Ethnicity  \\\n",
       "0     104866   69  Female           Normal            Yes             Asian   \n",
       "1     101999   32  Female           Normal            Yes             Asian   \n",
       "2     106567   89  Female   Postmenopausal             No         Caucasian   \n",
       "3     102316   78  Female           Normal             No         Caucasian   \n",
       "4     101944   38    Male   Postmenopausal            Yes  African American   \n",
       "...      ...  ...     ...              ...            ...               ...   \n",
       "1953  106130   19  Female           Normal            Yes  African American   \n",
       "1954  106463   23  Female   Postmenopausal            Yes         Caucasian   \n",
       "1955  103142   34  Female   Postmenopausal             No  African American   \n",
       "1956  105187   25    Male   Postmenopausal             No  African American   \n",
       "1957  108561   26  Female   Postmenopausal             No  African American   \n",
       "\n",
       "      Body Weight Calcium Intake Vitamin D Intake Physical Activity Smoking  \\\n",
       "0     Underweight            Low       Sufficient         Sedentary     Yes   \n",
       "1     Underweight            Low       Sufficient         Sedentary      No   \n",
       "2          Normal       Adequate       Sufficient            Active      No   \n",
       "3     Underweight       Adequate     Insufficient         Sedentary     Yes   \n",
       "4          Normal            Low       Sufficient            Active     Yes   \n",
       "...           ...            ...              ...               ...     ...   \n",
       "1953       Normal       Adequate       Sufficient         Sedentary     Yes   \n",
       "1954  Underweight            Low     Insufficient            Active      No   \n",
       "1955  Underweight            Low       Sufficient         Sedentary      No   \n",
       "1956       Normal            Low     Insufficient         Sedentary     Yes   \n",
       "1957  Underweight       Adequate       Sufficient         Sedentary     Yes   \n",
       "\n",
       "     Alcohol Consumption    Medical Conditions      Medications  \\\n",
       "0               Moderate  Rheumatoid Arthritis  Corticosteroids   \n",
       "1                    NaN                   NaN              NaN   \n",
       "2               Moderate       Hyperthyroidism  Corticosteroids   \n",
       "3                    NaN  Rheumatoid Arthritis  Corticosteroids   \n",
       "4                    NaN  Rheumatoid Arthritis              NaN   \n",
       "...                  ...                   ...              ...   \n",
       "1953            Moderate  Rheumatoid Arthritis              NaN   \n",
       "1954                 NaN                   NaN  Corticosteroids   \n",
       "1955                 NaN       Hyperthyroidism              NaN   \n",
       "1956                 NaN  Rheumatoid Arthritis  Corticosteroids   \n",
       "1957                 NaN  Rheumatoid Arthritis  Corticosteroids   \n",
       "\n",
       "     Prior Fractures  Osteoporosis  \n",
       "0                Yes             1  \n",
       "1                Yes             1  \n",
       "2                 No             1  \n",
       "3                 No             1  \n",
       "4                Yes             1  \n",
       "...              ...           ...  \n",
       "1953             Yes             0  \n",
       "1954              No             0  \n",
       "1955              No             0  \n",
       "1956             Yes             0  \n",
       "1957              No             0  \n",
       "\n",
       "[1958 rows x 16 columns]"
      ]
     },
     "execution_count": 2,
     "metadata": {},
     "output_type": "execute_result"
    }
   ],
   "source": [
    "df = pd.read_csv(r\"osteoporosis.csv\")\n",
    "df"
   ]
  },
  {
   "cell_type": "code",
   "execution_count": 3,
   "id": "0f358ad6-4f20-4fe5-946e-934c65a5e055",
   "metadata": {},
   "outputs": [
    {
     "name": "stdout",
     "output_type": "stream",
     "text": [
      "<class 'pandas.core.frame.DataFrame'>\n",
      "RangeIndex: 1958 entries, 0 to 1957\n",
      "Data columns (total 16 columns):\n",
      " #   Column               Non-Null Count  Dtype \n",
      "---  ------               --------------  ----- \n",
      " 0   Id                   1958 non-null   int64 \n",
      " 1   Age                  1958 non-null   int64 \n",
      " 2   Gender               1958 non-null   object\n",
      " 3   Hormonal Changes     1958 non-null   object\n",
      " 4   Family History       1958 non-null   object\n",
      " 5   Race/Ethnicity       1958 non-null   object\n",
      " 6   Body Weight          1958 non-null   object\n",
      " 7   Calcium Intake       1958 non-null   object\n",
      " 8   Vitamin D Intake     1958 non-null   object\n",
      " 9   Physical Activity    1958 non-null   object\n",
      " 10  Smoking              1958 non-null   object\n",
      " 11  Alcohol Consumption  970 non-null    object\n",
      " 12  Medical Conditions   1311 non-null   object\n",
      " 13  Medications          973 non-null    object\n",
      " 14  Prior Fractures      1958 non-null   object\n",
      " 15  Osteoporosis         1958 non-null   int64 \n",
      "dtypes: int64(3), object(13)\n",
      "memory usage: 244.9+ KB\n"
     ]
    }
   ],
   "source": [
    "df.info()"
   ]
  },
  {
   "cell_type": "code",
   "execution_count": 4,
   "id": "bb9d2f13-1341-4dca-b63d-264abd2b5f02",
   "metadata": {},
   "outputs": [
    {
     "data": {
      "text/plain": [
       "(1958, 16)"
      ]
     },
     "execution_count": 4,
     "metadata": {},
     "output_type": "execute_result"
    }
   ],
   "source": [
    "df.shape"
   ]
  },
  {
   "cell_type": "code",
   "execution_count": 5,
   "id": "691c8a07-dc8e-470c-afbf-241343ebdbec",
   "metadata": {},
   "outputs": [
    {
     "data": {
      "text/plain": [
       "Id                       0\n",
       "Age                      0\n",
       "Gender                   0\n",
       "Hormonal Changes         0\n",
       "Family History           0\n",
       "Race/Ethnicity           0\n",
       "Body Weight              0\n",
       "Calcium Intake           0\n",
       "Vitamin D Intake         0\n",
       "Physical Activity        0\n",
       "Smoking                  0\n",
       "Alcohol Consumption    988\n",
       "Medical Conditions     647\n",
       "Medications            985\n",
       "Prior Fractures          0\n",
       "Osteoporosis             0\n",
       "dtype: int64"
      ]
     },
     "execution_count": 5,
     "metadata": {},
     "output_type": "execute_result"
    }
   ],
   "source": [
    "df.isnull().sum()"
   ]
  },
  {
   "cell_type": "code",
   "execution_count": 6,
   "id": "da943201-4aa6-420d-95c8-9dfd96ef3f9d",
   "metadata": {},
   "outputs": [
    {
     "data": {
      "text/plain": [
       "2620"
      ]
     },
     "execution_count": 6,
     "metadata": {},
     "output_type": "execute_result"
    }
   ],
   "source": [
    "df.isnull().sum().values.sum()"
   ]
  },
  {
   "cell_type": "code",
   "execution_count": 7,
   "id": "0ab16d7c-4af7-4e17-9651-3d7d7a7b98b5",
   "metadata": {},
   "outputs": [
    {
     "data": {
      "text/plain": [
       "{'Moderate', nan}"
      ]
     },
     "execution_count": 7,
     "metadata": {},
     "output_type": "execute_result"
    }
   ],
   "source": [
    "set(df['Alcohol Consumption'])\n"
   ]
  },
  {
   "cell_type": "code",
   "execution_count": 8,
   "id": "bd9c384a-d5b8-4b76-8a51-efa83a9c555c",
   "metadata": {},
   "outputs": [
    {
     "data": {
      "text/plain": [
       "{'Hyperthyroidism', 'Rheumatoid Arthritis', nan}"
      ]
     },
     "execution_count": 8,
     "metadata": {},
     "output_type": "execute_result"
    }
   ],
   "source": [
    "set(df['Medical Conditions'])\n"
   ]
  },
  {
   "cell_type": "code",
   "execution_count": 9,
   "id": "ff269485-a51b-4a6b-92e5-4dbe51e6f905",
   "metadata": {},
   "outputs": [
    {
     "data": {
      "text/plain": [
       "{'Corticosteroids', nan}"
      ]
     },
     "execution_count": 9,
     "metadata": {},
     "output_type": "execute_result"
    }
   ],
   "source": [
    "set(df['Medications'])"
   ]
  },
  {
   "cell_type": "code",
   "execution_count": 10,
   "id": "4da372fe-113e-4812-865f-42f6a966138d",
   "metadata": {},
   "outputs": [
    {
     "data": {
      "text/plain": [
       "'considering that the empty values indicate absence of the medication alcohol consumption\\nand medical conditions replacing their values by zero indicating the patients did not possess the mentioned features.\\ndoing this before incoding beacuse we want to preserve the absence of features. Furthermore lets convert the numerical 0 value to string so that \\nwe have same datatype while we encode it.'"
      ]
     },
     "execution_count": 10,
     "metadata": {},
     "output_type": "execute_result"
    }
   ],
   "source": [
    "'''considering that the empty values indicate absence of the medication alcohol consumption\n",
    "and medical conditions replacing their values by zero indicating the patients did not possess the mentioned features.\n",
    "doing this before incoding beacuse we want to preserve the absence of features. Furthermore lets convert the numerical 0 value to string so that \n",
    "we have same datatype while we encode it.''' "
   ]
  },
  {
   "cell_type": "code",
   "execution_count": 11,
   "id": "26ff7594-2fb4-454b-940d-ea44b278e779",
   "metadata": {},
   "outputs": [],
   "source": [
    "df['Alcohol Consumption'] = df['Alcohol Consumption'].fillna(0)"
   ]
  },
  {
   "cell_type": "code",
   "execution_count": 12,
   "id": "c3a58a95-710c-46ac-bf4e-2a2b0ac23178",
   "metadata": {},
   "outputs": [],
   "source": [
    "df['Medical Conditions'] = df['Medical Conditions'].fillna(0)"
   ]
  },
  {
   "cell_type": "code",
   "execution_count": 13,
   "id": "59674cb6-1d6e-4f10-86b9-84b0bc3fd5b2",
   "metadata": {},
   "outputs": [],
   "source": [
    "df['Medications'] = df['Medications'].fillna(0)"
   ]
  },
  {
   "cell_type": "code",
   "execution_count": 14,
   "id": "1c6ae5d8-d00c-4ba8-9d9e-0f632ae4cfcc",
   "metadata": {},
   "outputs": [],
   "source": [
    "df['Alcohol Consumption'] = df['Alcohol Consumption'].astype(str)\n"
   ]
  },
  {
   "cell_type": "code",
   "execution_count": 15,
   "id": "ff2b8381-a1fb-445c-97ab-7aa61f75428c",
   "metadata": {},
   "outputs": [],
   "source": [
    "df['Medical Conditions'] = df['Medical Conditions'].astype(str)"
   ]
  },
  {
   "cell_type": "code",
   "execution_count": 16,
   "id": "99ec2954-98d4-49ae-922b-df3dde2f58c1",
   "metadata": {},
   "outputs": [],
   "source": [
    "df['Medications'] = df['Medications'].astype(str)"
   ]
  },
  {
   "cell_type": "code",
   "execution_count": 17,
   "id": "c751d0ea-0441-4d4b-a75a-b947457b5187",
   "metadata": {},
   "outputs": [
    {
     "data": {
      "text/plain": [
       "Id                     0\n",
       "Age                    0\n",
       "Gender                 0\n",
       "Hormonal Changes       0\n",
       "Family History         0\n",
       "Race/Ethnicity         0\n",
       "Body Weight            0\n",
       "Calcium Intake         0\n",
       "Vitamin D Intake       0\n",
       "Physical Activity      0\n",
       "Smoking                0\n",
       "Alcohol Consumption    0\n",
       "Medical Conditions     0\n",
       "Medications            0\n",
       "Prior Fractures        0\n",
       "Osteoporosis           0\n",
       "dtype: int64"
      ]
     },
     "execution_count": 17,
     "metadata": {},
     "output_type": "execute_result"
    }
   ],
   "source": [
    "df.isnull().sum()"
   ]
  },
  {
   "cell_type": "code",
   "execution_count": 18,
   "id": "98a828d5-7b06-4ca1-8fad-5ac2a1ca0e0d",
   "metadata": {},
   "outputs": [
    {
     "data": {
      "text/plain": [
       "{'Active', 'Sedentary'}"
      ]
     },
     "execution_count": 18,
     "metadata": {},
     "output_type": "execute_result"
    }
   ],
   "source": [
    "set(df['Physical Activity'])"
   ]
  },
  {
   "cell_type": "code",
   "execution_count": 19,
   "id": "3c6e04ba-8ab6-4292-8c27-e85428dd745b",
   "metadata": {},
   "outputs": [
    {
     "data": {
      "text/plain": [
       "{'0', 'Moderate'}"
      ]
     },
     "execution_count": 19,
     "metadata": {},
     "output_type": "execute_result"
    }
   ],
   "source": [
    "set(df['Alcohol Consumption'])"
   ]
  },
  {
   "cell_type": "code",
   "execution_count": 20,
   "id": "db09986a-764e-4a5d-bda3-54e979075218",
   "metadata": {},
   "outputs": [
    {
     "data": {
      "text/plain": [
       "{'Normal', 'Postmenopausal'}"
      ]
     },
     "execution_count": 20,
     "metadata": {},
     "output_type": "execute_result"
    }
   ],
   "source": [
    "set(df['Hormonal Changes'])"
   ]
  },
  {
   "cell_type": "code",
   "execution_count": 21,
   "id": "b830af71-902d-483a-ae6f-ed50c6356d39",
   "metadata": {},
   "outputs": [
    {
     "data": {
      "text/plain": [
       "{'African American', 'Asian', 'Caucasian'}"
      ]
     },
     "execution_count": 21,
     "metadata": {},
     "output_type": "execute_result"
    }
   ],
   "source": [
    "set(df['Race/Ethnicity'])"
   ]
  },
  {
   "cell_type": "code",
   "execution_count": 22,
   "id": "f5904907-1e43-435c-8922-329febfe760c",
   "metadata": {},
   "outputs": [
    {
     "data": {
      "text/plain": [
       "{'No', 'Yes'}"
      ]
     },
     "execution_count": 22,
     "metadata": {},
     "output_type": "execute_result"
    }
   ],
   "source": [
    "set(df['Prior Fractures'])"
   ]
  },
  {
   "cell_type": "code",
   "execution_count": 23,
   "id": "c0c71973-0056-4b0b-a32f-59436dfbf626",
   "metadata": {},
   "outputs": [],
   "source": [
    "from sklearn.preprocessing import OrdinalEncoder\n",
    "ord_enc = OrdinalEncoder()\n",
    "\n",
    "df['Gender'] = ord_enc.fit_transform(df[['Gender']]).astype('int')\n",
    "df['Hormonal Changes'] = ord_enc.fit_transform(df[['Hormonal Changes']]).astype('int')\n",
    "df['Family History'] = ord_enc.fit_transform(df[['Family History']]).astype('int')\n",
    "df['Race/Ethnicity'] = ord_enc.fit_transform(df[['Race/Ethnicity']]).astype('int')\n",
    "df['Body Weight'] = ord_enc.fit_transform(df[['Body Weight']]).astype('int')\n",
    "df['Calcium Intake'] = ord_enc.fit_transform(df[['Calcium Intake']]).astype('int')\n",
    "df['Vitamin D Intake'] = ord_enc.fit_transform(df[['Vitamin D Intake']]).astype('int')\n",
    "df['Physical Activity'] = ord_enc.fit_transform(df[['Physical Activity']]).astype('int')\n",
    "df['Smoking'] = ord_enc.fit_transform(df[['Smoking']]).astype('int')\n",
    "df['Alcohol Consumption'] = ord_enc.fit_transform(df[['Alcohol Consumption']]).astype('int')\n",
    "df['Medical Conditions'] = ord_enc.fit_transform(df[['Medical Conditions']]).astype('int')\n",
    "df['Medications'] = ord_enc.fit_transform(df[['Medications']]).astype('int')\n",
    "df['Prior Fractures'] = ord_enc.fit_transform(df[['Prior Fractures']]).astype('int')"
   ]
  },
  {
   "cell_type": "code",
   "execution_count": 24,
   "id": "f9407d87-84cd-464a-9cd2-92c4dc402b47",
   "metadata": {},
   "outputs": [
    {
     "data": {
      "text/plain": [
       "{0, 1, 2}"
      ]
     },
     "execution_count": 24,
     "metadata": {},
     "output_type": "execute_result"
    }
   ],
   "source": [
    "set(df['Medical Conditions'])"
   ]
  },
  {
   "cell_type": "code",
   "execution_count": 25,
   "id": "253c97fc-49ce-4eec-9209-41df9645f1e5",
   "metadata": {},
   "outputs": [],
   "source": [
    "df1=df[['Gender','Age','Hormonal Changes','Family History','Race/Ethnicity','Body Weight','Calcium Intake','Vitamin D Intake','Physical Activity','Smoking','Alcohol Consumption','Medical Conditions','Medications','Prior Fractures','Osteoporosis']]"
   ]
  },
  {
   "cell_type": "code",
   "execution_count": 26,
   "id": "82eff7c9-7f69-47ff-876c-fcf1f5cb3b2e",
   "metadata": {},
   "outputs": [
    {
     "name": "stdout",
     "output_type": "stream",
     "text": [
      "                       Gender       Age  Hormonal Changes  Family History  \\\n",
      "Gender               1.000000  0.015105         -0.018361        0.019671   \n",
      "Age                  0.015105  1.000000          0.005464       -0.016848   \n",
      "Hormonal Changes    -0.018361  0.005464          1.000000        0.020393   \n",
      "Family History       0.019671 -0.016848          0.020393        1.000000   \n",
      "Race/Ethnicity       0.015803 -0.029398         -0.034173        0.015095   \n",
      "Body Weight          0.010880  0.017046         -0.007259        0.003139   \n",
      "Calcium Intake      -0.009536  0.002128         -0.016296        0.024001   \n",
      "Vitamin D Intake     0.022052  0.019184         -0.000955       -0.009587   \n",
      "Physical Activity    0.027155  0.020651         -0.019513       -0.023330   \n",
      "Smoking             -0.039881  0.027591         -0.006122       -0.013222   \n",
      "Alcohol Consumption -0.015202  0.004541         -0.006148        0.002887   \n",
      "Medical Conditions   0.001381  0.025280         -0.017705        0.022574   \n",
      "Medications          0.004168 -0.006861         -0.001034       -0.006249   \n",
      "Prior Fractures     -0.016399 -0.023989          0.011244       -0.006051   \n",
      "Osteoporosis         0.012258  0.691238          0.015322       -0.002043   \n",
      "\n",
      "                     Race/Ethnicity  Body Weight  Calcium Intake  \\\n",
      "Gender                     0.015803     0.010880       -0.009536   \n",
      "Age                       -0.029398     0.017046        0.002128   \n",
      "Hormonal Changes          -0.034173    -0.007259       -0.016296   \n",
      "Family History             0.015095     0.003139        0.024001   \n",
      "Race/Ethnicity             1.000000     0.008253        0.012349   \n",
      "Body Weight                0.008253     1.000000       -0.015114   \n",
      "Calcium Intake             0.012349    -0.015114        1.000000   \n",
      "Vitamin D Intake          -0.012328    -0.013743       -0.025371   \n",
      "Physical Activity          0.000931     0.021435        0.011324   \n",
      "Smoking                   -0.032822     0.008332       -0.035841   \n",
      "Alcohol Consumption        0.012832     0.020003        0.013519   \n",
      "Medical Conditions         0.012088    -0.006759       -0.003565   \n",
      "Medications                0.002970     0.041630       -0.005974   \n",
      "Prior Fractures           -0.000532     0.005314       -0.012366   \n",
      "Osteoporosis              -0.006826     0.035794       -0.004087   \n",
      "\n",
      "                     Vitamin D Intake  Physical Activity   Smoking  \\\n",
      "Gender                       0.022052           0.027155 -0.039881   \n",
      "Age                          0.019184           0.020651  0.027591   \n",
      "Hormonal Changes            -0.000955          -0.019513 -0.006122   \n",
      "Family History              -0.009587          -0.023330 -0.013222   \n",
      "Race/Ethnicity              -0.012328           0.000931 -0.032822   \n",
      "Body Weight                 -0.013743           0.021435  0.008332   \n",
      "Calcium Intake              -0.025371           0.011324 -0.035841   \n",
      "Vitamin D Intake             1.000000           0.035161  0.008076   \n",
      "Physical Activity            0.035161           1.000000 -0.026451   \n",
      "Smoking                      0.008076          -0.026451  1.000000   \n",
      "Alcohol Consumption         -0.001743           0.001650  0.003093   \n",
      "Medical Conditions           0.012930          -0.000380  0.058143   \n",
      "Medications                 -0.017174          -0.034003  0.000019   \n",
      "Prior Fractures             -0.013420          -0.049922 -0.022485   \n",
      "Osteoporosis                 0.017374           0.019425 -0.016343   \n",
      "\n",
      "                     Alcohol Consumption  Medical Conditions  Medications  \\\n",
      "Gender                         -0.015202            0.001381     0.004168   \n",
      "Age                             0.004541            0.025280    -0.006861   \n",
      "Hormonal Changes               -0.006148           -0.017705    -0.001034   \n",
      "Family History                  0.002887            0.022574    -0.006249   \n",
      "Race/Ethnicity                  0.012832            0.012088     0.002970   \n",
      "Body Weight                     0.020003           -0.006759     0.041630   \n",
      "Calcium Intake                  0.013519           -0.003565    -0.005974   \n",
      "Vitamin D Intake               -0.001743            0.012930    -0.017174   \n",
      "Physical Activity               0.001650           -0.000380    -0.034003   \n",
      "Smoking                         0.003093            0.058143     0.000019   \n",
      "Alcohol Consumption             1.000000           -0.010189    -0.010271   \n",
      "Medical Conditions             -0.010189            1.000000     0.017634   \n",
      "Medications                    -0.010271            0.017634     1.000000   \n",
      "Prior Fractures                -0.038780            0.010143     0.003089   \n",
      "Osteoporosis                    0.002043            0.008844     0.033708   \n",
      "\n",
      "                     Prior Fractures  Osteoporosis  \n",
      "Gender                     -0.016399      0.012258  \n",
      "Age                        -0.023989      0.691238  \n",
      "Hormonal Changes            0.011244      0.015322  \n",
      "Family History             -0.006051     -0.002043  \n",
      "Race/Ethnicity             -0.000532     -0.006826  \n",
      "Body Weight                 0.005314      0.035794  \n",
      "Calcium Intake             -0.012366     -0.004087  \n",
      "Vitamin D Intake           -0.013420      0.017374  \n",
      "Physical Activity          -0.049922      0.019425  \n",
      "Smoking                    -0.022485     -0.016343  \n",
      "Alcohol Consumption        -0.038780      0.002043  \n",
      "Medical Conditions          0.010143      0.008844  \n",
      "Medications                 0.003089      0.033708  \n",
      "Prior Fractures             1.000000      0.015322  \n",
      "Osteoporosis                0.015322      1.000000  \n"
     ]
    }
   ],
   "source": [
    "correlation=df1.corr()\n",
    "print(correlation)"
   ]
  },
  {
   "cell_type": "code",
   "execution_count": 27,
   "id": "638e9f42-09a8-4790-af8f-0e679e3f0839",
   "metadata": {},
   "outputs": [
    {
     "data": {
      "image/png": "[encoded data removed]",
      "text/plain": [
       "<Figure size 1200x800 with 2 Axes>"
      ]
     },
     "metadata": {},
     "output_type": "display_data"
    }
   ],
   "source": [
    "\n",
    "plt.figure(figsize=(12, 8))  \n",
    "sns.heatmap(correlation, annot=True, cmap='coolwarm', fmt='.2f', linewidths=0.5)\n",
    "plt.title('Correlation Heatmap')\n",
    "plt.show()\n"
   ]
  },
  {
   "cell_type": "code",
   "execution_count": 28,
   "id": "281186cb-77eb-4ab7-8a81-ab09920d81ac",
   "metadata": {},
   "outputs": [
    {
     "data": {
      "text/plain": [
       "\"the value for family history, calcium intake  and alcohol consumption are -0.0 which only signifies that there is no 'linear'\\nrelationship but there could be non-linear relationship\\nbut still we don't exclude them because they play a significant role for the occurance of the disease.\\nit's always good to seek knowledge of the domain and not just depend on the relationship.\""
      ]
     },
     "execution_count": 28,
     "metadata": {},
     "output_type": "execute_result"
    }
   ],
   "source": [
    "'''the value for family history, calcium intake  and alcohol consumption are -0.0 which only signifies that there is no 'linear'\n",
    "relationship but there could be non-linear relationship\n",
    "but still we don't exclude them because they play a significant role for the occurance of the disease.\n",
    "it's always good to seek knowledge of the domain and not just depend on the relationship.'''"
   ]
  },
  {
   "cell_type": "code",
   "execution_count": 29,
   "id": "80ff8c22-9635-44f1-85db-a9cbb193b410",
   "metadata": {},
   "outputs": [],
   "source": [
    "from sklearn.model_selection import train_test_split\n",
    "# We specify this so that the train and test data set always have the same rows, respectively\n",
    "df_train, df_test = train_test_split(df1, train_size = 0.85, test_size = 0.15, random_state = 1)"
   ]
  },
  {
   "cell_type": "code",
   "execution_count": 30,
   "id": "021d538f-2c1b-4d19-8423-ffb63d3bb360",
   "metadata": {},
   "outputs": [
    {
     "name": "stdout",
     "output_type": "stream",
     "text": [
      "Linear regression train accuracy =  49\n"
     ]
    }
   ],
   "source": [
    "from sklearn.linear_model import LinearRegression\n",
    "from sklearn.metrics import mean_squared_error, r2_score, mean_absolute_error\n",
    "X_train = df_train[['Gender','Age','Hormonal Changes','Family History','Race/Ethnicity','Body Weight','Calcium Intake','Vitamin D Intake','Physical Activity','Smoking','Alcohol Consumption','Medical Conditions','Medications','Prior Fractures']]\n",
    "y_train=df_train[['Osteoporosis']]\n",
    "lr = LinearRegression()\n",
    "lr_model = lr.fit(X_train, y_train)\n",
    "y_train_pred = lr_model.predict(X_train)\n",
    "print(\"Linear regression train accuracy = \",round(lr_model.score(X_train, y_train)*100))\n",
    "\n"
   ]
  },
  {
   "cell_type": "code",
   "execution_count": 31,
   "id": "b5142237-bfd7-4307-a7d7-d276f774b3c6",
   "metadata": {},
   "outputs": [
    {
     "name": "stdout",
     "output_type": "stream",
     "text": [
      "Linear regression test accuracy =  44\n"
     ]
    }
   ],
   "source": [
    "#test accuracy\n",
    "test_data = df_test\n",
    "y_test = test_data['Osteoporosis']\n",
    "X_test = test_data.drop(['Osteoporosis'],axis = 1)\n",
    "print(\"Linear regression test accuracy = \",round(lr_model.score(X_test, y_test)*100))\n"
   ]
  },
  {
   "cell_type": "code",
   "execution_count": 32,
   "id": "f0bfcd74-4068-4df2-93c4-a7ba5b949942",
   "metadata": {},
   "outputs": [
    {
     "name": "stdout",
     "output_type": "stream",
     "text": [
      "Logistic regression train accuracy=  82.6923076923077\n",
      "Logistic regression test accuracy =  79.59183673469387\n"
     ]
    }
   ],
   "source": [
    "from sklearn.linear_model import LogisticRegression\n",
    "lg = LogisticRegression()\n",
    "lg_model = lg.fit(X_train, y_train)\n",
    "print(\"Logistic regression train accuracy= \",lg_model.score(X_train, y_train)*100)\n",
    "print(\"Logistic regression test accuracy = \",lg_model.score(X_test, y_test)*100)"
   ]
  },
  {
   "cell_type": "code",
   "execution_count": 33,
   "id": "26218c6a-fd5b-48e2-9786-9060cccfaa04",
   "metadata": {},
   "outputs": [
    {
     "name": "stdout",
     "output_type": "stream",
     "text": [
      "Best parameter (C): {'C': 0.9}\n",
      "Best accuracy on training set: 0.8359528202901696\n"
     ]
    },
    {
     "data": {
      "text/html": [
       "<style>#sk-container-id-1 {\n",
       "  /* Definition of color scheme common for light and dark mode */\n",
       "  --sklearn-color-text: black;\n",
       "  --sklearn-color-line: gray;\n",
       "  /* Definition of color scheme for unfitted estimators */\n",
       "  --sklearn-color-unfitted-level-0: #fff5e6;\n",
       "  --sklearn-color-unfitted-level-1: #f6e4d2;\n",
       "  --sklearn-color-unfitted-level-2: #ffe0b3;\n",
       "  --sklearn-color-unfitted-level-3: chocolate;\n",
       "  /* Definition of color scheme for fitted estimators */\n",
       "  --sklearn-color-fitted-level-0: #f0f8ff;\n",
       "  --sklearn-color-fitted-level-1: #d4ebff;\n",
       "  --sklearn-color-fitted-level-2: #b3dbfd;\n",
       "  --sklearn-color-fitted-level-3: cornflowerblue;\n",
       "\n",
       "  /* Specific color for light theme */\n",
       "  --sklearn-color-text-on-default-background: var(--sg-text-color, var(--theme-code-foreground, var(--jp-content-font-color1, black)));\n",
       "  --sklearn-color-background: var(--sg-background-color, var(--theme-background, var(--jp-layout-color0, white)));\n",
       "  --sklearn-color-border-box: var(--sg-text-color, var(--theme-code-foreground, var(--jp-content-font-color1, black)));\n",
       "  --sklearn-color-icon: #696969;\n",
       "\n",
       "  @media (prefers-color-scheme: dark) {\n",
       "    /* Redefinition of color scheme for dark theme */\n",
       "    --sklearn-color-text-on-default-background: var(--sg-text-color, var(--theme-code-foreground, var(--jp-content-font-color1, white)));\n",
       "    --sklearn-color-background: var(--sg-background-color, var(--theme-background, var(--jp-layout-color0, #111)));\n",
       "    --sklearn-color-border-box: var(--sg-text-color, var(--theme-code-foreground, var(--jp-content-font-color1, white)));\n",
       "    --sklearn-color-icon: #878787;\n",
       "  }\n",
       "}\n",
       "\n",
       "#sk-container-id-1 {\n",
       "  color: var(--sklearn-color-text);\n",
       "}\n",
       "\n",
       "#sk-container-id-1 pre {\n",
       "  padding: 0;\n",
       "}\n",
       "\n",
       "#sk-container-id-1 input.sk-hidden--visually {\n",
       "  border: 0;\n",
       "  clip: rect(1px 1px 1px 1px);\n",
       "  clip: rect(1px, 1px, 1px, 1px);\n",
       "  height: 1px;\n",
       "  margin: -1px;\n",
       "  overflow: hidden;\n",
       "  padding: 0;\n",
       "  position: absolute;\n",
       "  width: 1px;\n",
       "}\n",
       "\n",
       "#sk-container-id-1 div.sk-dashed-wrapped {\n",
       "  border: 1px dashed var(--sklearn-color-line);\n",
       "  margin: 0 0.4em 0.5em 0.4em;\n",
       "  box-sizing: border-box;\n",
       "  padding-bottom: 0.4em;\n",
       "  background-color: var(--sklearn-color-background);\n",
       "}\n",
       "\n",
       "#sk-container-id-1 div.sk-container {\n",
       "  /* jupyter's `normalize.less` sets `[hidden] { display: none; }`\n",
       "     but bootstrap.min.css set `[hidden] { display: none !important; }`\n",
       "     so we also need the `!important` here to be able to override the\n",
       "     default hidden behavior on the sphinx rendered scikit-learn.org.\n",
       "     See: https://github.com/scikit-learn/scikit-learn/issues/21755 */\n",
       "  display: inline-block !important;\n",
       "  position: relative;\n",
       "}\n",
       "\n",
       "#sk-container-id-1 div.sk-text-repr-fallback {\n",
       "  display: none;\n",
       "}\n",
       "\n",
       "div.sk-parallel-item,\n",
       "div.sk-serial,\n",
       "div.sk-item {\n",
       "  /* draw centered vertical line to link estimators */\n",
       "  background-image: linear-gradient(var(--sklearn-color-text-on-default-background), var(--sklearn-color-text-on-default-background));\n",
       "  background-size: 2px 100%;\n",
       "  background-repeat: no-repeat;\n",
       "  background-position: center center;\n",
       "}\n",
       "\n",
       "/* Parallel-specific style estimator block */\n",
       "\n",
       "#sk-container-id-1 div.sk-parallel-item::after {\n",
       "  content: \"\";\n",
       "  width: 100%;\n",
       "  border-bottom: 2px solid var(--sklearn-color-text-on-default-background);\n",
       "  flex-grow: 1;\n",
       "}\n",
       "\n",
       "#sk-container-id-1 div.sk-parallel {\n",
       "  display: flex;\n",
       "  align-items: stretch;\n",
       "  justify-content: center;\n",
       "  background-color: var(--sklearn-color-background);\n",
       "  position: relative;\n",
       "}\n",
       "\n",
       "#sk-container-id-1 div.sk-parallel-item {\n",
       "  display: flex;\n",
       "  flex-direction: column;\n",
       "}\n",
       "\n",
       "#sk-container-id-1 div.sk-parallel-item:first-child::after {\n",
       "  align-self: flex-end;\n",
       "  width: 50%;\n",
       "}\n",
       "\n",
       "#sk-container-id-1 div.sk-parallel-item:last-child::after {\n",
       "  align-self: flex-start;\n",
       "  width: 50%;\n",
       "}\n",
       "\n",
       "#sk-container-id-1 div.sk-parallel-item:only-child::after {\n",
       "  width: 0;\n",
       "}\n",
       "\n",
       "/* Serial-specific style estimator block */\n",
       "\n",
       "#sk-container-id-1 div.sk-serial {\n",
       "  display: flex;\n",
       "  flex-direction: column;\n",
       "  align-items: center;\n",
       "  background-color: var(--sklearn-color-background);\n",
       "  padding-right: 1em;\n",
       "  padding-left: 1em;\n",
       "}\n",
       "\n",
       "\n",
       "/* Toggleable style: style used for estimator/Pipeline/ColumnTransformer box that is\n",
       "clickable and can be expanded/collapsed.\n",
       "- Pipeline and ColumnTransformer use this feature and define the default style\n",
       "- Estimators will overwrite some part of the style using the `sk-estimator` class\n",
       "*/\n",
       "\n",
       "/* Pipeline and ColumnTransformer style (default) */\n",
       "\n",
       "#sk-container-id-1 div.sk-toggleable {\n",
       "  /* Default theme specific background. It is overwritten whether we have a\n",
       "  specific estimator or a Pipeline/ColumnTransformer */\n",
       "  background-color: var(--sklearn-color-background);\n",
       "}\n",
       "\n",
       "/* Toggleable label */\n",
       "#sk-container-id-1 label.sk-toggleable__label {\n",
       "  cursor: pointer;\n",
       "  display: block;\n",
       "  width: 100%;\n",
       "  margin-bottom: 0;\n",
       "  padding: 0.5em;\n",
       "  box-sizing: border-box;\n",
       "  text-align: center;\n",
       "}\n",
       "\n",
       "#sk-container-id-1 label.sk-toggleable__label-arrow:before {\n",
       "  /* Arrow on the left of the label */\n",
       "  content: \"▸\";\n",
       "  float: left;\n",
       "  margin-right: 0.25em;\n",
       "  color: var(--sklearn-color-icon);\n",
       "}\n",
       "\n",
       "#sk-container-id-1 label.sk-toggleable__label-arrow:hover:before {\n",
       "  color: var(--sklearn-color-text);\n",
       "}\n",
       "\n",
       "/* Toggleable content - dropdown */\n",
       "\n",
       "#sk-container-id-1 div.sk-toggleable__content {\n",
       "  max-height: 0;\n",
       "  max-width: 0;\n",
       "  overflow: hidden;\n",
       "  text-align: left;\n",
       "  /* unfitted */\n",
       "  background-color: var(--sklearn-color-unfitted-level-0);\n",
       "}\n",
       "\n",
       "#sk-container-id-1 div.sk-toggleable__content.fitted {\n",
       "  /* fitted */\n",
       "  background-color: var(--sklearn-color-fitted-level-0);\n",
       "}\n",
       "\n",
       "#sk-container-id-1 div.sk-toggleable__content pre {\n",
       "  margin: 0.2em;\n",
       "  border-radius: 0.25em;\n",
       "  color: var(--sklearn-color-text);\n",
       "  /* unfitted */\n",
       "  background-color: var(--sklearn-color-unfitted-level-0);\n",
       "}\n",
       "\n",
       "#sk-container-id-1 div.sk-toggleable__content.fitted pre {\n",
       "  /* unfitted */\n",
       "  background-color: var(--sklearn-color-fitted-level-0);\n",
       "}\n",
       "\n",
       "#sk-container-id-1 input.sk-toggleable__control:checked~div.sk-toggleable__content {\n",
       "  /* Expand drop-down */\n",
       "  max-height: 200px;\n",
       "  max-width: 100%;\n",
       "  overflow: auto;\n",
       "}\n",
       "\n",
       "#sk-container-id-1 input.sk-toggleable__control:checked~label.sk-toggleable__label-arrow:before {\n",
       "  content: \"▾\";\n",
       "}\n",
       "\n",
       "/* Pipeline/ColumnTransformer-specific style */\n",
       "\n",
       "#sk-container-id-1 div.sk-label input.sk-toggleable__control:checked~label.sk-toggleable__label {\n",
       "  color: var(--sklearn-color-text);\n",
       "  background-color: var(--sklearn-color-unfitted-level-2);\n",
       "}\n",
       "\n",
       "#sk-container-id-1 div.sk-label.fitted input.sk-toggleable__control:checked~label.sk-toggleable__label {\n",
       "  background-color: var(--sklearn-color-fitted-level-2);\n",
       "}\n",
       "\n",
       "/* Estimator-specific style */\n",
       "\n",
       "/* Colorize estimator box */\n",
       "#sk-container-id-1 div.sk-estimator input.sk-toggleable__control:checked~label.sk-toggleable__label {\n",
       "  /* unfitted */\n",
       "  background-color: var(--sklearn-color-unfitted-level-2);\n",
       "}\n",
       "\n",
       "#sk-container-id-1 div.sk-estimator.fitted input.sk-toggleable__control:checked~label.sk-toggleable__label {\n",
       "  /* fitted */\n",
       "  background-color: var(--sklearn-color-fitted-level-2);\n",
       "}\n",
       "\n",
       "#sk-container-id-1 div.sk-label label.sk-toggleable__label,\n",
       "#sk-container-id-1 div.sk-label label {\n",
       "  /* The background is the default theme color */\n",
       "  color: var(--sklearn-color-text-on-default-background);\n",
       "}\n",
       "\n",
       "/* On hover, darken the color of the background */\n",
       "#sk-container-id-1 div.sk-label:hover label.sk-toggleable__label {\n",
       "  color: var(--sklearn-color-text);\n",
       "  background-color: var(--sklearn-color-unfitted-level-2);\n",
       "}\n",
       "\n",
       "/* Label box, darken color on hover, fitted */\n",
       "#sk-container-id-1 div.sk-label.fitted:hover label.sk-toggleable__label.fitted {\n",
       "  color: var(--sklearn-color-text);\n",
       "  background-color: var(--sklearn-color-fitted-level-2);\n",
       "}\n",
       "\n",
       "/* Estimator label */\n",
       "\n",
       "#sk-container-id-1 div.sk-label label {\n",
       "  font-family: monospace;\n",
       "  font-weight: bold;\n",
       "  display: inline-block;\n",
       "  line-height: 1.2em;\n",
       "}\n",
       "\n",
       "#sk-container-id-1 div.sk-label-container {\n",
       "  text-align: center;\n",
       "}\n",
       "\n",
       "/* Estimator-specific */\n",
       "#sk-container-id-1 div.sk-estimator {\n",
       "  font-family: monospace;\n",
       "  border: 1px dotted var(--sklearn-color-border-box);\n",
       "  border-radius: 0.25em;\n",
       "  box-sizing: border-box;\n",
       "  margin-bottom: 0.5em;\n",
       "  /* unfitted */\n",
       "  background-color: var(--sklearn-color-unfitted-level-0);\n",
       "}\n",
       "\n",
       "#sk-container-id-1 div.sk-estimator.fitted {\n",
       "  /* fitted */\n",
       "  background-color: var(--sklearn-color-fitted-level-0);\n",
       "}\n",
       "\n",
       "/* on hover */\n",
       "#sk-container-id-1 div.sk-estimator:hover {\n",
       "  /* unfitted */\n",
       "  background-color: var(--sklearn-color-unfitted-level-2);\n",
       "}\n",
       "\n",
       "#sk-container-id-1 div.sk-estimator.fitted:hover {\n",
       "  /* fitted */\n",
       "  background-color: var(--sklearn-color-fitted-level-2);\n",
       "}\n",
       "\n",
       "/* Specification for estimator info (e.g. \"i\" and \"?\") */\n",
       "\n",
       "/* Common style for \"i\" and \"?\" */\n",
       "\n",
       ".sk-estimator-doc-link,\n",
       "a:link.sk-estimator-doc-link,\n",
       "a:visited.sk-estimator-doc-link {\n",
       "  float: right;\n",
       "  font-size: smaller;\n",
       "  line-height: 1em;\n",
       "  font-family: monospace;\n",
       "  background-color: var(--sklearn-color-background);\n",
       "  border-radius: 1em;\n",
       "  height: 1em;\n",
       "  width: 1em;\n",
       "  text-decoration: none !important;\n",
       "  margin-left: 1ex;\n",
       "  /* unfitted */\n",
       "  border: var(--sklearn-color-unfitted-level-1) 1pt solid;\n",
       "  color: var(--sklearn-color-unfitted-level-1);\n",
       "}\n",
       "\n",
       ".sk-estimator-doc-link.fitted,\n",
       "a:link.sk-estimator-doc-link.fitted,\n",
       "a:visited.sk-estimator-doc-link.fitted {\n",
       "  /* fitted */\n",
       "  border: var(--sklearn-color-fitted-level-1) 1pt solid;\n",
       "  color: var(--sklearn-color-fitted-level-1);\n",
       "}\n",
       "\n",
       "/* On hover */\n",
       "div.sk-estimator:hover .sk-estimator-doc-link:hover,\n",
       ".sk-estimator-doc-link:hover,\n",
       "div.sk-label-container:hover .sk-estimator-doc-link:hover,\n",
       ".sk-estimator-doc-link:hover {\n",
       "  /* unfitted */\n",
       "  background-color: var(--sklearn-color-unfitted-level-3);\n",
       "  color: var(--sklearn-color-background);\n",
       "  text-decoration: none;\n",
       "}\n",
       "\n",
       "div.sk-estimator.fitted:hover .sk-estimator-doc-link.fitted:hover,\n",
       ".sk-estimator-doc-link.fitted:hover,\n",
       "div.sk-label-container:hover .sk-estimator-doc-link.fitted:hover,\n",
       ".sk-estimator-doc-link.fitted:hover {\n",
       "  /* fitted */\n",
       "  background-color: var(--sklearn-color-fitted-level-3);\n",
       "  color: var(--sklearn-color-background);\n",
       "  text-decoration: none;\n",
       "}\n",
       "\n",
       "/* Span, style for the box shown on hovering the info icon */\n",
       ".sk-estimator-doc-link span {\n",
       "  display: none;\n",
       "  z-index: 9999;\n",
       "  position: relative;\n",
       "  font-weight: normal;\n",
       "  right: .2ex;\n",
       "  padding: .5ex;\n",
       "  margin: .5ex;\n",
       "  width: min-content;\n",
       "  min-width: 20ex;\n",
       "  max-width: 50ex;\n",
       "  color: var(--sklearn-color-text);\n",
       "  box-shadow: 2pt 2pt 4pt #999;\n",
       "  /* unfitted */\n",
       "  background: var(--sklearn-color-unfitted-level-0);\n",
       "  border: .5pt solid var(--sklearn-color-unfitted-level-3);\n",
       "}\n",
       "\n",
       ".sk-estimator-doc-link.fitted span {\n",
       "  /* fitted */\n",
       "  background: var(--sklearn-color-fitted-level-0);\n",
       "  border: var(--sklearn-color-fitted-level-3);\n",
       "}\n",
       "\n",
       ".sk-estimator-doc-link:hover span {\n",
       "  display: block;\n",
       "}\n",
       "\n",
       "/* \"?\"-specific style due to the `<a>` HTML tag */\n",
       "\n",
       "#sk-container-id-1 a.estimator_doc_link {\n",
       "  float: right;\n",
       "  font-size: 1rem;\n",
       "  line-height: 1em;\n",
       "  font-family: monospace;\n",
       "  background-color: var(--sklearn-color-background);\n",
       "  border-radius: 1rem;\n",
       "  height: 1rem;\n",
       "  width: 1rem;\n",
       "  text-decoration: none;\n",
       "  /* unfitted */\n",
       "  color: var(--sklearn-color-unfitted-level-1);\n",
       "  border: var(--sklearn-color-unfitted-level-1) 1pt solid;\n",
       "}\n",
       "\n",
       "#sk-container-id-1 a.estimator_doc_link.fitted {\n",
       "  /* fitted */\n",
       "  border: var(--sklearn-color-fitted-level-1) 1pt solid;\n",
       "  color: var(--sklearn-color-fitted-level-1);\n",
       "}\n",
       "\n",
       "/* On hover */\n",
       "#sk-container-id-1 a.estimator_doc_link:hover {\n",
       "  /* unfitted */\n",
       "  background-color: var(--sklearn-color-unfitted-level-3);\n",
       "  color: var(--sklearn-color-background);\n",
       "  text-decoration: none;\n",
       "}\n",
       "\n",
       "#sk-container-id-1 a.estimator_doc_link.fitted:hover {\n",
       "  /* fitted */\n",
       "  background-color: var(--sklearn-color-fitted-level-3);\n",
       "}\n",
       "</style><div id=\"sk-container-id-1\" class=\"sk-top-container\"><div class=\"sk-text-repr-fallback\"><pre>SVC(C=0.9, kernel=&#x27;linear&#x27;)</pre><b>In a Jupyter environment, please rerun this cell to show the HTML representation or trust the notebook. <br />On GitHub, the HTML representation is unable to render, please try loading this page with nbviewer.org.</b></div><div class=\"sk-container\" hidden><div class=\"sk-item\"><div class=\"sk-estimator fitted sk-toggleable\"><input class=\"sk-toggleable__control sk-hidden--visually\" id=\"sk-estimator-id-1\" type=\"checkbox\" checked><label for=\"sk-estimator-id-1\" class=\"sk-toggleable__label fitted sk-toggleable__label-arrow fitted\">&nbsp;&nbsp;SVC<a class=\"sk-estimator-doc-link fitted\" rel=\"noreferrer\" target=\"_blank\" href=\"https://scikit-learn.org/1.4/modules/generated/sklearn.svm.SVC.html\">?<span>Documentation for SVC</span></a><span class=\"sk-estimator-doc-link fitted\">i<span>Fitted</span></span></label><div class=\"sk-toggleable__content fitted\"><pre>SVC(C=0.9, kernel=&#x27;linear&#x27;)</pre></div> </div></div></div></div>"
      ],
      "text/plain": [
       "SVC(C=0.9, kernel='linear')"
      ]
     },
     "execution_count": 33,
     "metadata": {},
     "output_type": "execute_result"
    }
   ],
   "source": [
    "from sklearn.svm import SVC\n",
    "from sklearn.model_selection import GridSearchCV\n",
    "from sklearn.metrics import classification_report, accuracy_score\n",
    "svm_model = SVC(kernel='linear')\n",
    "\n",
    "# Define the parameter grid for C\n",
    "param_grid = {'C': [0.1, 0.4, 0.6, 0.9, 1.1, 1.4, 1.6, 1.9, 2.2, 2.4, 2.7, 2.9, 3.2, 3.5, 3.7, 4.0, 4.2, 4.5, 4.7, 5.0]}\n",
    "\n",
    "\n",
    "# Perform GridSearchCV\n",
    "grid_search = GridSearchCV(svm_model, param_grid, cv=5, scoring='accuracy')\n",
    "grid_search.fit(X_train, y_train)\n",
    "\n",
    "# Best parameter and best model\n",
    "print(\"Best parameter (C):\", grid_search.best_params_)\n",
    "print(\"Best accuracy on training set:\", grid_search.best_score_)\n",
    "\n",
    "# Train the best model\n",
    "best_model = grid_search.best_estimator_\n",
    "best_model.fit(X_train, y_train)"
   ]
  },
  {
   "cell_type": "code",
   "execution_count": 34,
   "id": "0fabad5e-b14e-4c3b-944c-9e40d0c941ac",
   "metadata": {},
   "outputs": [
    {
     "name": "stdout",
     "output_type": "stream",
     "text": [
      "Test Accuracy: 0.7483\n",
      "\n",
      "Test Classification Report:\n",
      "              precision    recall  f1-score   support\n",
      "\n",
      "           0       0.72      0.83      0.77       151\n",
      "           1       0.79      0.66      0.72       143\n",
      "\n",
      "    accuracy                           0.75       294\n",
      "   macro avg       0.75      0.75      0.75       294\n",
      "weighted avg       0.75      0.75      0.75       294\n",
      "\n"
     ]
    }
   ],
   "source": [
    "from sklearn.naive_bayes import MultinomialNB\n",
    "nb_model = MultinomialNB()\n",
    "nb_model.fit(X_train, y_train)\n",
    "Y_pred = nb_model.predict(X_test)\n",
    "\n",
    "test_data = df_test\n",
    "y_test = test_data['Osteoporosis']\n",
    "X_test = test_data.drop(['Osteoporosis'],axis = 1)\n",
    "\n",
    "# Evaluate the model (on test set)\n",
    "Y_test_pred = nb_model.predict(X_test)\n",
    "test_accuracy = accuracy_score(y_test, Y_test_pred)\n",
    "print(f\"Test Accuracy: {test_accuracy:.4f}\")\n",
    "\n",
    "# Display classification report fortest\n",
    "print(\"\\nTest Classification Report:\")\n",
    "print(classification_report(y_test, Y_test_pred))"
   ]
  },
  {
   "cell_type": "code",
   "execution_count": 35,
   "id": "daf29357-ca96-49cd-a5e3-17568ae76302",
   "metadata": {},
   "outputs": [
    {
     "name": "stdout",
     "output_type": "stream",
     "text": [
      "Model Accuracy for random forest: 0.8265\n"
     ]
    }
   ],
   "source": [
    "# Define Random Forest model\n",
    "from sklearn.ensemble import RandomForestClassifier\n",
    "rf = RandomForestClassifier(n_estimators=100, random_state=42)\n",
    "# Train the model\n",
    "rf.fit(X_train, y_train)\n",
    "test_data = df_test\n",
    "y_test = test_data['Osteoporosis']\n",
    "X_test = test_data.drop(['Osteoporosis'],axis = 1)\n",
    "# Evaluate model accuracy\n",
    "accuracy = rf.score(X_test, y_test)\n",
    "print(f\"Model Accuracy for random forest: {accuracy:.4f}\")"
   ]
  },
  {
   "cell_type": "code",
   "execution_count": 38,
   "id": "db671fe6-331c-4f52-9fb3-9116263fe2aa",
   "metadata": {},
   "outputs": [
    {
     "name": "stdout",
     "output_type": "stream",
     "text": [
      "Defaulting to user installation because normal site-packages is not writeable\n",
      "Collecting xgboost\n",
      "  Using cached xgboost-3.0.0-py3-none-win_amd64.whl.metadata (2.1 kB)\n",
      "Requirement already satisfied: numpy in c:\\programdata\\anaconda3\\lib\\site-packages (from xgboost) (1.26.4)\n",
      "Requirement already satisfied: scipy in c:\\programdata\\anaconda3\\lib\\site-packages (from xgboost) (1.13.1)\n",
      "Using cached xgboost-3.0.0-py3-none-win_amd64.whl (150.0 MB)\n",
      "Installing collected packages: xgboost\n",
      "Successfully installed xgboost-3.0.0\n"
     ]
    }
   ],
   "source": [
    "!pip install xgboost\n"
   ]
  },
  {
   "cell_type": "code",
   "execution_count": 39,
   "id": "f59f8e6a-6323-472f-a184-7cb74a89c610",
   "metadata": {},
   "outputs": [
    {
     "name": "stdout",
     "output_type": "stream",
     "text": [
      "Model Accuracy for XGBoost: 0.8605\n"
     ]
    }
   ],
   "source": [
    "import xgboost as xgb\n",
    "from xgboost import XGBClassifier\n",
    "from sklearn.metrics import accuracy_score\n",
    "\n",
    "# Define XGBoost model\n",
    "xgb_model = XGBClassifier(n_estimators=100, random_state=42)\n",
    "\n",
    "# Train the model\n",
    "xgb_model.fit(X_train, y_train)\n",
    "\n",
    "# Prepare test data\n",
    "test_data = df_test\n",
    "y_test = test_data['Osteoporosis']\n",
    "X_test = test_data.drop(['Osteoporosis'], axis=1)\n",
    "\n",
    "# Make predictions using the trained model\n",
    "y_pred = xgb_model.predict(X_test)\n",
    "\n",
    "# Evaluate model accuracy\n",
    "accuracy = accuracy_score(y_test, y_pred)\n",
    "print(f\"Model Accuracy for XGBoost: {accuracy:.4f}\")\n"
   ]
  },
  {
   "cell_type": "code",
   "execution_count": 40,
   "id": "d624d4eb-5651-44e1-9c19-47da548490ec",
   "metadata": {},
   "outputs": [
    {
     "name": "stdout",
     "output_type": "stream",
     "text": [
      "Fitting 5 folds for each of 972 candidates, totalling 4860 fits\n",
      "Best parameters found: {'colsample_bytree': 0.7, 'learning_rate': 0.05, 'max_depth': 5, 'min_child_weight': 1, 'n_estimators': 100, 'subsample': 1.0}\n",
      "Model Accuracy for tuned XGBoost: 0.9048\n"
     ]
    }
   ],
   "source": [
    "import xgboost as xgb\n",
    "from xgboost import XGBClassifier\n",
    "from sklearn.model_selection import GridSearchCV\n",
    "from sklearn.metrics import accuracy_score\n",
    "\n",
    "# Define XGBoost model\n",
    "xgb_model = XGBClassifier(random_state=42)\n",
    "\n",
    "# Set up the hyperparameters grid\n",
    "param_grid = {\n",
    "    'learning_rate': [0.01, 0.05, 0.1, 0.2],\n",
    "    'n_estimators': [100, 200, 300],\n",
    "    'max_depth': [3, 5, 7],\n",
    "    'min_child_weight': [1, 3, 5],\n",
    "    'subsample': [0.7, 0.8, 1.0],\n",
    "    'colsample_bytree': [0.7, 0.8, 1.0]\n",
    "}\n",
    "\n",
    "# Use GridSearchCV to search the best parameters\n",
    "grid_search = GridSearchCV(estimator=xgb_model, param_grid=param_grid, \n",
    "                           scoring='accuracy', cv=5, n_jobs=-1, verbose=1)\n",
    "\n",
    "# Train the model with GridSearchCV\n",
    "grid_search.fit(X_train, y_train)\n",
    "\n",
    "# Get the best parameters\n",
    "best_params = grid_search.best_params_\n",
    "print(f\"Best parameters found: {best_params}\")\n",
    "\n",
    "# Train the XGBoost model with the best parameters\n",
    "best_xgb_model = grid_search.best_estimator_\n",
    "\n",
    "# Make predictions using the best model\n",
    "y_pred = best_xgb_model.predict(X_test)\n",
    "\n",
    "# Evaluate model accuracy\n",
    "accuracy = accuracy_score(y_test, y_pred)\n",
    "print(f\"Model Accuracy for tuned XGBoost: {accuracy:.4f}\")\n"
   ]
  },
  {
   "cell_type": "code",
   "execution_count": 43,
   "id": "527ea172-a7d6-48e3-9fd5-7e8bab11b625",
   "metadata": {},
   "outputs": [],
   "source": [
    "import pickle as pk\n",
    "filename = r'C:\\Users\\Asus\\Desktop\\broad-way\\XGBoost.pickle'\n",
    "pk.dump(best_xgb_model, open(filename, 'wb'))"
   ]
  },
  {
   "cell_type": "code",
   "execution_count": null,
   "id": "f74cf125-eb32-4862-bc1b-56eb484205f1",
   "metadata": {},
   "outputs": [],
   "source": []
  }
 ],
 "metadata": {
  "kernelspec": {
   "display_name": "Python 3 (ipykernel)",
   "language": "python",
   "name": "python3"
  },
  "language_info": {
   "codemirror_mode": {
    "name": "ipython",
    "version": 3
   },
   "file_extension": ".py",
   "mimetype": "text/x-python",
   "name": "python",
   "nbconvert_exporter": "python",
   "pygments_lexer": "ipython3",
   "version": "3.12.4"
  }
 },
 "nbformat": 4,
 "nbformat_minor": 5
}
